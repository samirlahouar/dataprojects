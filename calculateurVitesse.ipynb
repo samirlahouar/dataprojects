{
 "cells": [
  {
   "cell_type": "code",
   "execution_count": null,
   "metadata": {},
   "outputs": [],
   "source": [
    "import cv2\n",
    "import matplotlib.pyplot as plt\n",
    "\n",
    "def processvideo(videoFile):\n",
    "    # Ouvrir la vidéo\n",
    "    video = cv2.VideoCapture(videoFile)\n",
    "\n",
    "    # Lire la première image de la vidéo\n",
    "    ret, frame = video.read()\n",
    "\n",
    "    # Initialiser les variables pour le traitement des images\n",
    "    last_frame_time = 0\n",
    "    last_frame = None\n",
    "    numero = 0\n",
    "    # Boucle pour traiter les images de la vidéo\n",
    "    while True:\n",
    "        # Lire la prochaine image de la vidéo\n",
    "        ret, frame = video.read()\n",
    "\n",
    "        # Vérifier si l'image a été lue avec succès\n",
    "        if not ret:\n",
    "            break\n",
    "\n",
    "        # Convertir l'image en niveaux de gris\n",
    "        gray_frame = cv2.cvtColor(frame, cv2.COLOR_BGR2GRAY)\n",
    "        numero += 1\n",
    "        #\n",
    "        # Vérifier si c'est la première image\n",
    "        if last_frame is None:\n",
    "            last_frame = gray_frame\n",
    "            last_frame_time = video.get(cv2.CAP_PROP_POS_MSEC)\n",
    "            continue\n",
    "\n",
    "        # Calculer la différence de temps entre cette image et la première image\n",
    "        current_frame_time = video.get(cv2.CAP_PROP_POS_MSEC)\n",
    "        time_diff = current_frame_time - last_frame_time\n",
    "\n",
    "        # Afficher l'image dans une figure avec la différence de temps\n",
    "        fig, ax = plt.subplots()\n",
    "        ax.imshow(frame)\n",
    "        ax.set_title(\"{} - Différence de temps : {} ms\".format(numero, int(time_diff)))\n",
    "        \n",
    "        # Afficher la figure\n",
    "        plt.show()\n",
    "\n",
    "        # Mettre à jour la dernière image et le dernier temps\n",
    "        last_frame = gray_frame\n",
    "        last_frame_time = current_frame_time\n",
    "\n",
    "    # Fermer la vidéo\n",
    "    video.release()\n",
    "processvideo(\"example.mp4\")"
   ]
  },
  {
   "cell_type": "code",
   "execution_count": null,
   "metadata": {},
   "outputs": [],
   "source": [
    "!pip install opencv-python"
   ]
  },
  {
   "cell_type": "code",
   "execution_count": null,
   "metadata": {},
   "outputs": [],
   "source": [
    "#Calcul de vitesse :\n",
    "temps = (162-149) * 33 /1000 #ms\n",
    "print(\"le temps est : {} s\".format(temps))\n",
    "distance = (4.25 ** 2 + 1.5 **2)**.5\n",
    "print(\"La distance est {} m\".format(distance))\n",
    "vitesse = distance /temps * 3600 /1000\n",
    "print(\"la vitesse est {} km/h\".format(vitesse))"
   ]
  },
  {
   "cell_type": "code",
   "execution_count": null,
   "metadata": {},
   "outputs": [],
   "source": [
    "import cv2\n",
    "\n",
    "# Ouvrir la vidéo\n",
    "video = cv2.VideoCapture(\"example.mp4\")\n",
    "\n",
    "# Boucle pour traiter les images de la vidéo\n",
    "while True:\n",
    "    # Lire la prochaine image de la vidéo\n",
    "    ret, frame = video.read()\n",
    "\n",
    "    # Vérifier si l'image a été lue avec succès\n",
    "    if not ret:\n",
    "        break\n",
    "\n",
    "    # Convertir l'image en niveaux de gris\n",
    "    gray_frame = cv2.cvtColor(frame, cv2.COLOR_BGR2GRAY)\n",
    "\n",
    "    # Appliquer un filtre gaussien pour réduire le bruit de l'image\n",
    "    blurred_frame = cv2.GaussianBlur(gray_frame, (5, 5), 0)\n",
    "\n",
    "    # Détecter les cercles dans l'image en utilisant la transformée de Hough des cercles\n",
    "    circles = cv2.HoughCircles(blurred_frame, cv2.HOUGH_GRADIENT, 1, 50, param1=100, param2=30, minRadius=0, maxRadius=0)\n",
    "\n",
    "    # Vérifier si un cercle a été détecté\n",
    "    if circles is not None:\n",
    "        # Convertir les coordonnées du cercle en entiers\n",
    "        circles = circles.astype(int)\n",
    "\n",
    "        # Dessiner une croix rouge au centre de chaque cercle détecté\n",
    "        for circle in circles[0]:\n",
    "            cv2.circle(frame, (circle[0], circle[1]), circle[2], (0, 255, 0), 2)\n",
    "            cv2.line(frame, (circle[0], circle[1] - circle[2]), (circle[0], circle[1] + circle[2]), (0, 0, 255), 2)\n",
    "            cv2.line(frame, (circle[0] - circle[2], circle[1]), (circle[0] + circle[2], circle[1]), (0, 0, 255), 2)\n",
    "\n",
    "    # Afficher l'image avec les cercles détectés\n",
    "    cv2.imshow(\"Ballon\", frame)\n",
    "    cv2.waitKey(0)\n",
    "\n",
    "# Fermer la vidéo et la fenêtre d'affichage\n",
    "video.release()\n",
    "cv2.destroyAllWindows()"
   ]
  },
  {
   "cell_type": "code",
   "execution_count": null,
   "metadata": {},
   "outputs": [],
   "source": [
    "import moviepy.editor as mp\n",
    "import numpy as np\n",
    "import matplotlib.pyplot as plt\n",
    "\n",
    "# Load the video and extract the audio\n",
    "clip = mp.VideoFileClip(\"VID_20230415_204950.mp4\")\n",
    "audio = clip.audio.to_soundarray()\n",
    "\n",
    "# Get the audio waveform\n",
    "waveform = audio.mean(axis=1)\n",
    "\n",
    "# Get the duration and sampling rate of the audio\n",
    "duration = clip.duration\n",
    "sampling_rate = clip.fps\n",
    "\n",
    "# Create a time vector for the waveform\n",
    "time = np.linspace(0, duration, audio.shape[0])\n",
    "\n",
    "# Plot the waveform\n",
    "plt.plot(time, waveform)\n",
    "plt.xlabel(\"Time (s)\")\n",
    "plt.ylabel(\"Amplitude\")\n",
    "plt.show()\n"
   ]
  },
  {
   "cell_type": "code",
   "execution_count": null,
   "metadata": {},
   "outputs": [],
   "source": [
    "!pip install moviepy"
   ]
  },
  {
   "cell_type": "code",
   "execution_count": null,
   "metadata": {},
   "outputs": [],
   "source": [
    "import moviepy.editor as mp\n",
    "\n",
    "# Load the video and extract the audio\n",
    "clip = mp.VideoFileClip(\"VID_20230415_204950.mp4\")\n",
    "audio = clip.audio\n",
    "\n",
    "# Set the output file name and format\n",
    "output_file = \"VID_20230415_204950.mp3\"\n",
    "\n",
    "# Write the audio to a file\n",
    "audio.write_audiofile(output_file)"
   ]
  },
  {
   "cell_type": "code",
   "execution_count": null,
   "metadata": {},
   "outputs": [],
   "source": [
    "processvideo(\"example.mp4\")"
   ]
  },
  {
   "cell_type": "code",
   "execution_count": null,
   "metadata": {},
   "outputs": [],
   "source": [
    "#Calcul de vitesse :\n",
    "temps = (81-74) * 33 /1000 #ms\n",
    "print(\"le temps est : {} s\".format(temps))\n",
    "distance = (4.25 ** 2 + 1.5 **2)**.5\n",
    "print(\"La distance est {} m\".format(distance))\n",
    "vitesse = distance /temps * 3600 /1000\n",
    "print(\"la vitesse est {} km/h\".format(vitesse))"
   ]
  },
  {
   "cell_type": "code",
   "execution_count": null,
   "metadata": {},
   "outputs": [],
   "source": [
    "#To use a pixel in an image we can use this code :\n",
    "import matplotlib.pyplot as plt\n",
    "import numpy as np\n",
    "import matplotlib\n",
    "matplotlib.use('TkAgg') # or 'Qt5Agg', depending on your system\n",
    "\n",
    "# Load the image\n",
    "image = plt.imread(\"soussouIm1.jpg\")\n",
    "\n",
    "# Display the image\n",
    "fig, ax = plt.subplots()\n",
    "ax.imshow(image)\n",
    "input(\"press enter to continue !\")\n",
    "# Let the user select a pixel in the image\n",
    "pixel = plt.ginput(1)[0]\n",
    "print(\"Selected pixel: \", pixel)\n",
    "# Add a plus sign at the selected pixel\n",
    "ax.annotate(\"+\", xy=pixel, xytext=(0, 0), textcoords=\"offset points\", color=\"red\", fontsize=20, ha=\"center\", va=\"center\")\n",
    "plt.show()\n",
    "# Get the color of the selected pixel\n",
    "x, y = int(pixel[0]), int(pixel[1])\n",
    "color = image[y, x]\n",
    "print(\"Selected pixel color: \", color)"
   ]
  },
  {
   "cell_type": "code",
   "execution_count": null,
   "metadata": {},
   "outputs": [],
   "source": [
    "#To save an image from a video at a specific time using Python, you can use the moviepy library. Here's an example Python code:\n",
    "\n",
    "import moviepy.editor as mp\n",
    "from skimage.transform import resize\n",
    "import imageio\n",
    "\n",
    "# Load the video\n",
    "video = mp.VideoFileClip(\"soussou2.mp4\")\n",
    "\n",
    "# Get the frame at the specified time\n",
    "time = 1 # time in seconds\n",
    "frame = video.get_frame(time)\n",
    "frame = resize(frame, video.size)\n",
    "\n",
    "# Save the frame as an image\n",
    "output_file = \"soussouIm1.jpg\"\n",
    "imageio.imwrite(output_file, frame)\n"
   ]
  },
  {
   "cell_type": "code",
   "execution_count": null,
   "metadata": {},
   "outputs": [],
   "source": [
    "processvideo(\"example1.mp4\")"
   ]
  },
  {
   "cell_type": "code",
   "execution_count": null,
   "metadata": {},
   "outputs": [],
   "source": [
    "#Calcul de vitesse :\n",
    "temps = (23-13) * 33 /1000 #ms\n",
    "print(\"le temps est : {} s\".format(temps))\n",
    "distance = 9\n",
    "print(\"La distance est {} m\".format(distance))\n",
    "vitesse = distance /temps * 3600 /1000\n",
    "print(\"la vitesse est {} km/h\".format(vitesse))"
   ]
  },
  {
   "cell_type": "code",
   "execution_count": null,
   "metadata": {},
   "outputs": [],
   "source": [
    "processvideo(\"example2.mp4\")"
   ]
  },
  {
   "cell_type": "code",
   "execution_count": null,
   "metadata": {},
   "outputs": [],
   "source": [
    "#Calcul de vitesse :\n",
    "temps = (15-5) * 33 /1000 #ms\n",
    "print(\"le temps est : {} s\".format(temps))\n",
    "distance = 9\n",
    "print(\"La distance est {} m\".format(distance))\n",
    "vitesse = distance /temps * 3600 /1000\n",
    "print(\"la vitesse est {} km/h\".format(vitesse))"
   ]
  }
 ],
 "metadata": {
  "kernelspec": {
   "display_name": "Python 3.9.13 ('base')",
   "language": "python",
   "name": "python3"
  },
  "language_info": {
   "codemirror_mode": {
    "name": "ipython",
    "version": 3
   },
   "file_extension": ".py",
   "mimetype": "text/x-python",
   "name": "python",
   "nbconvert_exporter": "python",
   "pygments_lexer": "ipython3",
   "version": "3.9.13"
  },
  "orig_nbformat": 4,
  "vscode": {
   "interpreter": {
    "hash": "5886b90e09404f2533bbdcb82b8fb009d2967ae9d1598bd082dbb8214158f91d"
   }
  }
 },
 "nbformat": 4,
 "nbformat_minor": 2
}
