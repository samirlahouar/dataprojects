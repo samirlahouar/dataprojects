{
 "cells": [
  {
   "cell_type": "markdown",
   "metadata": {},
   "source": [
    "# generating Speech using chatgpt api"
   ]
  },
  {
   "cell_type": "code",
   "execution_count": null,
   "metadata": {},
   "outputs": [],
   "source": [
    "%pip install gtts"
   ]
  },
  {
   "cell_type": "code",
   "execution_count": null,
   "metadata": {},
   "outputs": [],
   "source": [
    "from gtts import gTTS\n",
    "import os\n",
    "\n",
    "def text_to_speech(text, language='en', save_to_file=False, file_name='output.mp3'):\n",
    "    tts = gTTS(text=text, lang=language, slow=False)\n",
    "    \n",
    "    if save_to_file:\n",
    "        tts.save(file_name)\n",
    "        print(f'Audio saved to \"{file_name}\"')\n",
    "    else:\n",
    "        tts.save('temp.mp3')\n",
    "        os.system('start temp.mp3')  # Play the generated audio (Windows)\n",
    "\n",
    "if __name__ == \"__main__\":\n",
    "    input_text = input(\"Enter the text to convert to speech: \")\n",
    "    text_to_speech(input_text, language='fr', save_to_file=True)"
   ]
  },
  {
   "cell_type": "markdown",
   "metadata": {},
   "source": [
    "# training tacotron"
   ]
  },
  {
   "cell_type": "code",
   "execution_count": null,
   "metadata": {},
   "outputs": [],
   "source": [
    "import tensorflow as tf\n",
    "from tacotron2 import Tacotron2\n",
    "from utils import get_dummy_dataset  # Mock dataset for demonstration purposes\n",
    "\n",
    "# Mock data - Replace with your own preprocessed dataset\n",
    "train_data, train_text = get_dummy_dataset()\n",
    "\n",
    "# Hyperparameters\n",
    "batch_size = 4\n",
    "num_epochs = 10\n",
    "learning_rate = 0.001\n",
    "\n",
    "# Create TensorFlow dataset\n",
    "train_dataset = tf.data.Dataset.from_tensor_slices((train_data, train_text))\n",
    "train_dataset = train_dataset.shuffle(len(train_data)).batch(batch_size)\n",
    "\n",
    "# Create Tacotron model\n",
    "tacotron = Tacotron2(num_mel_channels=80, num_symbols=39)  # Modify arguments based on your dataset\n",
    "\n",
    "# Optimizer and loss function\n",
    "optimizer = tf.keras.optimizers.Adam(learning_rate)\n",
    "mse_loss = tf.keras.losses.MeanSquaredError()\n",
    "\n",
    "# Training loop\n",
    "for epoch in range(num_epochs):\n",
    "    total_loss = 0.0\n",
    "    for batch in train_dataset:\n",
    "        audio_batch, text_batch = batch\n",
    "\n",
    "        # Forward pass\n",
    "        with tf.GradientTape() as tape:\n",
    "            mel_output, mel_output_postnet, _ = tacotron([text_batch, audio_batch])\n",
    "\n",
    "            # Compute the loss\n",
    "            loss = mse_loss(audio_batch, mel_output) + mse_loss(audio_batch, mel_output_postnet)\n",
    "\n",
    "        # Backpropagation and optimization\n",
    "        gradients = tape.gradient(loss, tacotron.trainable_variables)\n",
    "        optimizer.apply_gradients(zip(gradients, tacotron.trainable_variables))\n",
    "\n",
    "        total_loss += loss\n",
    "\n",
    "    print(f\"Epoch {epoch+1}, Loss: {total_loss / len(train_dataset)}\")\n",
    "\n",
    "# Training completed! Now you can use the trained Tacotron model for synthesis.\n"
   ]
  },
  {
   "cell_type": "markdown",
   "metadata": {},
   "source": [
    "# Recording Audio"
   ]
  },
  {
   "cell_type": "code",
   "execution_count": null,
   "metadata": {},
   "outputs": [],
   "source": [
    "%pip install pyaudio"
   ]
  },
  {
   "cell_type": "code",
   "execution_count": null,
   "metadata": {},
   "outputs": [],
   "source": [
    "%pip install soundfile"
   ]
  },
  {
   "cell_type": "code",
   "execution_count": null,
   "metadata": {},
   "outputs": [],
   "source": [
    "import pyaudio\n",
    "import wave\n",
    "\n",
    "def record_audio(output_file, duration, sample_rate=44100, channels=1):\n",
    "    CHUNK = 1024\n",
    "    FORMAT = pyaudio.paInt16\n",
    "\n",
    "    audio = pyaudio.PyAudio()\n",
    "\n",
    "    stream = audio.open(\n",
    "        format=FORMAT,\n",
    "        channels=channels,\n",
    "        rate=sample_rate,\n",
    "        input=True,\n",
    "        frames_per_buffer=CHUNK\n",
    "    )\n",
    "\n",
    "    frames = []\n",
    "    print(\"Recording...\")\n",
    "\n",
    "    for _ in range(0, int(sample_rate / CHUNK * duration)):\n",
    "        data = stream.read(CHUNK)\n",
    "        frames.append(data)\n",
    "\n",
    "    print(\"Recording finished.\")\n",
    "\n",
    "    stream.stop_stream()\n",
    "    stream.close()\n",
    "    audio.terminate()\n",
    "\n",
    "    # Save audio as a WAV file\n",
    "    with wave.open(output_file, 'wb') as wf:\n",
    "        wf.setnchannels(channels)\n",
    "        wf.setsampwidth(audio.get_sample_size(FORMAT))\n",
    "        wf.setframerate(sample_rate)\n",
    "        wf.writeframes(b''.join(frames))\n",
    "\n",
    "if __name__ == \"__main__\":\n",
    "    output_file = \"recorded_audio.wav\"  # Change this to your desired output filename\n",
    "    duration = 5  # Recording duration in seconds\n",
    "    record_audio(output_file, duration)\n"
   ]
  },
  {
   "cell_type": "markdown",
   "metadata": {},
   "source": [
    "# Voice Recognition"
   ]
  },
  {
   "cell_type": "code",
   "execution_count": null,
   "metadata": {},
   "outputs": [],
   "source": [
    "import speech_recognition as sr\n",
    "from langdetect import detect\n",
    "\n",
    "def transcribe_and_detect_language(wav_file):\n",
    "    recognizer = sr.Recognizer()\n",
    "\n",
    "    # Load the audio file\n",
    "    with sr.AudioFile(wav_file) as source:\n",
    "        audio = recognizer.record(source)\n",
    "\n",
    "    # Use Google Web Speech API for speech recognition\n",
    "    try:\n",
    "        text = recognizer.recognize_google(audio, language=\"fr-FR\")  # fr-FR Use French language for speech recognition\n",
    "        detected_language = detect(text)\n",
    "        return text, detected_language\n",
    "    except sr.UnknownValueError:\n",
    "        print(\"Google Web Speech API could not understand the audio.\")\n",
    "    except sr.RequestError as e:\n",
    "        print(f\"Could not request results from Google Web Speech API; {e}\")\n",
    "\n",
    "if __name__ == \"__main__\":\n",
    "    wav_file = \"recorded_audio.wav\"  # Replace with the path to your .wav file\n",
    "    recognized_text, language = transcribe_and_detect_language(wav_file)\n",
    "    print(\"Recognized Text:\")\n",
    "    print(recognized_text)\n",
    "    print(\"Detected Language:\")\n",
    "    print(language)\n"
   ]
  },
  {
   "cell_type": "markdown",
   "metadata": {},
   "source": [
    "# Using chat gpt to generate text"
   ]
  },
  {
   "cell_type": "code",
   "execution_count": null,
   "metadata": {},
   "outputs": [],
   "source": [
    "import requests\n",
    "\n",
    "def chat_with_gpt(text):\n",
    "    api_key = \"****\"  # Replace with your ChatGPT API key\n",
    "    endpoint = \"https://api.openai.com/v1/chat/completions\"\n",
    "\n",
    "    headers = {\n",
    "        \"Content-Type\": \"application/json\",\n",
    "        \"Authorization\": f\"Bearer {api_key}\"\n",
    "    }\n",
    "\n",
    "    payload = {\n",
    "        \"model\": \"gpt-3.5-turbo\",  # The ChatGPT model to use\n",
    "        \"messages\": [{\"role\": \"system\", \"content\": \"You are a helpful assistant.\"},\n",
    "                     {\"role\": \"user\", \"content\": text}],\n",
    "        \"max_tokens\": 100\n",
    "    }\n",
    "\n",
    "    response = requests.post(endpoint, json=payload, headers=headers)\n",
    "\n",
    "    if response.status_code == 200:\n",
    "        result = response.json()[\"choices\"][0][\"message\"][\"content\"]\n",
    "        return result\n",
    "    else:\n",
    "        print(f\"Request failed with status code {response.status_code}\")\n",
    "        return None\n",
    "\n",
    "if __name__ == \"__main__\":\n",
    "    user_input = input(\"You: \")\n",
    "    while user_input.lower() not in ['quit', 'exit']:\n",
    "        response = chat_with_gpt(user_input)\n",
    "        print(\"ChatGPT:\", response)\n",
    "        user_input = input(\"You: \")\n"
   ]
  }
 ],
 "metadata": {
  "kernelspec": {
   "display_name": "Python 3.9.6 64-bit",
   "language": "python",
   "name": "python3"
  },
  "language_info": {
   "codemirror_mode": {
    "name": "ipython",
    "version": 3
   },
   "file_extension": ".py",
   "mimetype": "text/x-python",
   "name": "python",
   "nbconvert_exporter": "python",
   "pygments_lexer": "ipython3",
   "version": "3.9.6"
  },
  "orig_nbformat": 4,
  "vscode": {
   "interpreter": {
    "hash": "31f2aee4e71d21fbe5cf8b01ff0e069b9275f58929596ceb00d14d90e3e16cd6"
   }
  }
 },
 "nbformat": 4,
 "nbformat_minor": 2
}
